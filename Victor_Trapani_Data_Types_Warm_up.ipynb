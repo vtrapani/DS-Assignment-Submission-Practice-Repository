{
  "nbformat": 4,
  "nbformat_minor": 0,
  "metadata": {
    "colab": {
      "name": "Victor_Trapani_Data Types Warm-up.ipynb",
      "provenance": [],
      "include_colab_link": true
    },
    "kernelspec": {
      "name": "python3",
      "display_name": "Python 3"
    },
    "language_info": {
      "name": "python"
    }
  },
  "cells": [
    {
      "cell_type": "markdown",
      "metadata": {
        "id": "view-in-github",
        "colab_type": "text"
      },
      "source": [
        "<a href=\"https://colab.research.google.com/github/vtrapani/DS-Assignment-Submission-Practice-Repository/blob/master/Victor_Trapani_Data_Types_Warm_up.ipynb\" target=\"_parent\"><img src=\"https://colab.research.google.com/assets/colab-badge.svg\" alt=\"Open In Colab\"/></a>"
      ]
    },
    {
      "cell_type": "markdown",
      "metadata": {
        "id": "mUdn5YhXqe3m"
      },
      "source": [
        "## Overview\n",
        "\n",
        "One of the cornerstones of Exploratory Data Analysis (EDA) is being able to identify variable types such as categorical, quantitative, continuous, discrete, ordinal, nominal and identifier.  We will need different statistical methods to display and describe each of these different types of data."
      ]
    },
    {
      "cell_type": "markdown",
      "metadata": {
        "id": "CE1OpSBpljcU"
      },
      "source": [
        "## Follow Along\n",
        "\n",
        "First, data can most easily be classified as categorical or quantitative.\n",
        "\n",
        "- Categorical data places each observation into one and only one category: hair color, eye color, favorite flavor of ice cream, letter grade in a class, zip code\n",
        "\n",
        "- Quantitative data measures something: height, weight, income, number of children"
      ]
    },
    {
      "cell_type": "markdown",
      "metadata": {
        "id": "0heI-SakahfG"
      },
      "source": [
        ""
      ]
    },
    {
      "cell_type": "markdown",
      "metadata": {
        "id": "pLIcXUwgGZ4m"
      },
      "source": [
        "Categorical data can further be classified as ordinal, nominal or an identifier variable.\n",
        "- Nominal data has no natural ordering: hair color, eye color\n",
        "- Oridnal data has a natural ordering: letter grades - A, B, C, D, F\n",
        "- Identifier variables identify each record uniquely and are not analyzed\n",
        "\n",
        "Quantitative data can further be classified as discrete or continuous.\n",
        "- Discrete data can be counted in a finite amount of time: Number of individuals riding on a bus\n",
        "- Continuous data can be measured ever more precisely: My age is 38.334283948577 years old."
      ]
    },
    {
      "cell_type": "markdown",
      "metadata": {
        "id": "-cPyM8eLlIQB"
      },
      "source": [
        "#### Let's import the Titanic.csv dataset and identify the different variable types:"
      ]
    },
    {
      "cell_type": "markdown",
      "metadata": {
        "id": "PYgryGq0Ye3X"
      },
      "source": [
        "Run the code block below to import and print the top 5 observations from the Titanic dataset.  We'll cover exactly how this works in today's Guided Project.\n",
        "\n",
        "Then take a look at the Titanic Data Dictionary linked below."
      ]
    },
    {
      "cell_type": "code",
      "metadata": {
        "id": "vGXfTAyJlU4J",
        "colab": {
          "base_uri": "https://localhost:8080/"
        },
        "outputId": "0ca87c2b-82b6-48ea-f4de-5e66b3225374"
      },
      "source": [
        "import pandas as pd\n",
        "\n",
        "data_url = 'https://raw.githubusercontent.com/LambdaSchool/data-science-practice-datasets/main/unit_1/Titanic/Titanic.csv'\n",
        "\n",
        "df = pd.read_csv(data_url, skipinitialspace=True, header=0)\n",
        "\n",
        "##print(df.shape)\n",
        "##df.head()\n",
        "df.info()"
      ],
      "execution_count": null,
      "outputs": [
        {
          "output_type": "stream",
          "text": [
            "<class 'pandas.core.frame.DataFrame'>\n",
            "RangeIndex: 887 entries, 0 to 886\n",
            "Data columns (total 8 columns):\n",
            " #   Column                   Non-Null Count  Dtype  \n",
            "---  ------                   --------------  -----  \n",
            " 0   Survived                 887 non-null    int64  \n",
            " 1   Pclass                   887 non-null    int64  \n",
            " 2   Name                     887 non-null    object \n",
            " 3   Sex                      887 non-null    object \n",
            " 4   Age                      887 non-null    float64\n",
            " 5   Siblings/Spouses_Aboard  887 non-null    int64  \n",
            " 6   Parents/Children_Aboard  887 non-null    int64  \n",
            " 7   Fare                     887 non-null    float64\n",
            "dtypes: float64(2), int64(4), object(2)\n",
            "memory usage: 55.6+ KB\n"
          ],
          "name": "stdout"
        }
      ]
    },
    {
      "cell_type": "markdown",
      "metadata": {
        "id": "Au0x261CIlWc"
      },
      "source": [
        "[Titanic Data Dictionary](https://github.com/LambdaSchool/data-science-practice-datasets/tree/main/unit_1/Titanic)\n"
      ]
    },
    {
      "cell_type": "markdown",
      "metadata": {
        "id": "mNpAAsxkY5PY"
      },
      "source": [
        "###Use the resources above to answer the following questions about the Titanic dataset:"
      ]
    },
    {
      "cell_type": "markdown",
      "metadata": {
        "id": "SMdasMbEJq8r"
      },
      "source": [
        "\n",
        "\n",
        "1. Which variable is the identifier variable?\n",
        "\n"
      ]
    },
    {
      "cell_type": "markdown",
      "metadata": {
        "id": "rleSby6Zbosg"
      },
      "source": [
        "Name"
      ]
    },
    {
      "cell_type": "markdown",
      "metadata": {
        "id": "g_uCjN2fZLvn"
      },
      "source": [
        "*Answer*: Name"
      ]
    },
    {
      "cell_type": "markdown",
      "metadata": {
        "id": "B3bA1ntVZHmj"
      },
      "source": [
        "\n",
        "2. Which variables are categorical?  Are they ordinal or nominal?\n"
      ]
    },
    {
      "cell_type": "markdown",
      "metadata": {
        "id": "ABj6VMN3b1y4"
      },
      "source": [
        "Name, Sex"
      ]
    },
    {
      "cell_type": "markdown",
      "metadata": {
        "id": "OxB_tfWJZOhr"
      },
      "source": [
        "Answer: Name - Identifier, Sex - nominal, Survived - nominal, PClass - ordinal, SiblingsSpouses - nominal, ParentsChildren - nominal"
      ]
    },
    {
      "cell_type": "markdown",
      "metadata": {
        "id": "P5J6Ck6xZIL7"
      },
      "source": [
        "\n",
        "3. Which variables are quantiative?  Are they quantitative or discrete?\n"
      ]
    },
    {
      "cell_type": "markdown",
      "metadata": {
        "id": "vOJHdoCUZPI2"
      },
      "source": [
        "Answer:  Age - continuous, fare - continuous"
      ]
    }
  ]
}