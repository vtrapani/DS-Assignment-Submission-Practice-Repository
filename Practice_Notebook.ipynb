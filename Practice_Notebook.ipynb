{
  "nbformat": 4,
  "nbformat_minor": 0,
  "metadata": {
    "colab": {
      "name": "Practice-Notebook.ipynb",
      "provenance": [],
      "include_colab_link": true
    },
    "kernelspec": {
      "name": "python3",
      "display_name": "Python 3"
    }
  },
  "cells": [
    {
      "cell_type": "markdown",
      "metadata": {
        "id": "view-in-github",
        "colab_type": "text"
      },
      "source": [
        "<a href=\"https://colab.research.google.com/github/vtrapani/DS-Assignment-Submission-Practice-Repository/blob/master/Practice_Notebook.ipynb\" target=\"_parent\"><img src=\"https://colab.research.google.com/assets/colab-badge.svg\" alt=\"Open In Colab\"/></a>"
      ]
    },
    {
      "cell_type": "markdown",
      "metadata": {
        "id": "YAlFuj9oJXtg"
      },
      "source": [
        "# You did it!\n",
        "\n",
        "If you're reading this text in a Google Colab text editor then you have successfully opened this file from GitHub in Google Colab!\n",
        "\n",
        "Please make a change to this file by typing `2+2` in the code cell below. Make sure that you run the code cell and can see the number `4` outputted below the code cell. Once you have modified the file you will be able to save your changes back to your GitHub account.\n",
        "\n"
      ]
    },
    {
      "cell_type": "code",
      "metadata": {
        "id": "-ngCZ8MNJVAe",
        "colab": {
          "base_uri": "https://localhost:8080/"
        },
        "outputId": "615b2539-0a33-4176-ccea-fd9853c09f5e"
      },
      "source": [
        "2 + 2"
      ],
      "execution_count": 1,
      "outputs": [
        {
          "output_type": "execute_result",
          "data": {
            "text/plain": [
              "4"
            ]
          },
          "metadata": {
            "tags": []
          },
          "execution_count": 1
        }
      ]
    },
    {
      "cell_type": "markdown",
      "metadata": {
        "id": "8aGS4GlaKU2Q"
      },
      "source": [
        "After making your change and running hte code cell, from the top menu select `File` -> `Save a Copy in GitHub` in order to save the changes that you have made in this file back to the appropriate repository on GitHub. \n",
        "\n",
        "Once you have done this, your browser will open a new tab showing you a preview of the saved file on GitHub. You should be able to see the changes that you have made to the file in that file preview.\n"
      ]
    },
    {
      "cell_type": "code",
      "metadata": {
        "id": "Z34PyGBeKd4B"
      },
      "source": [
        ""
      ],
      "execution_count": null,
      "outputs": []
    }
  ]
}